{
  "nbformat": 4,
  "nbformat_minor": 0,
  "metadata": {
    "colab": {
      "provenance": []
    },
    "kernelspec": {
      "name": "python3",
      "display_name": "Python 3"
    },
    "language_info": {
      "name": "python"
    }
  },
  "cells": [
    {
      "cell_type": "code",
      "execution_count": 2,
      "metadata": {
        "id": "tR8HgsM481qx"
      },
      "outputs": [],
      "source": [
        "import numpy as np\n",
        "import matplotlib.pyplot as plt\n",
        "from scipy import linalg as la\n",
        "import seaborn as sns\n",
        "import pandas as pd"
      ]
    },
    {
      "cell_type": "code",
      "source": [
        "x1 = np.random.normal(0, 1, 1000)\n",
        "x2=x1+np.random.normal(0, 3, 1000)\n",
        "x3=2*x1+x2\n",
        "print(x1.shape,x2.shape,x3.shape)"
      ],
      "metadata": {
        "id": "5etNGmHe9GAj",
        "colab": {
          "base_uri": "https://localhost:8080/"
        },
        "outputId": "3b42301e-da72-49dc-f8c0-9be69db793ff"
      },
      "execution_count": 3,
      "outputs": [
        {
          "output_type": "stream",
          "name": "stdout",
          "text": [
            "(1000,) (1000,) (1000,)\n"
          ]
        }
      ]
    },
    {
      "cell_type": "code",
      "source": [
        "df=np.array([x1,x2,x3])\n",
        "print(df.shape)\n",
        "df"
      ],
      "metadata": {
        "colab": {
          "base_uri": "https://localhost:8080/"
        },
        "id": "ZwcnltIRAgzF",
        "outputId": "d0e33491-3cbe-4244-e4e4-e066a8729156"
      },
      "execution_count": 8,
      "outputs": [
        {
          "output_type": "stream",
          "name": "stdout",
          "text": [
            "(3, 1000)\n"
          ]
        },
        {
          "output_type": "execute_result",
          "data": {
            "text/plain": [
              "array([[  0.71376886,  -0.95676023,   0.70860059, ...,   0.84968104,\n",
              "          0.07963463,   1.01322951],\n",
              "       [ -0.21191865, -10.47385791,   4.94529664, ...,   0.85450949,\n",
              "          0.94616566,   1.07588597],\n",
              "       [  1.21561907, -12.38737837,   6.36249783, ...,   2.55387157,\n",
              "          1.10543492,   3.10234499]])"
            ]
          },
          "metadata": {},
          "execution_count": 8
        }
      ]
    },
    {
      "cell_type": "code",
      "source": [
        "np_cov = np.cov(df)\n"
      ],
      "metadata": {
        "id": "gfLsPK_uAv6-"
      },
      "execution_count": 9,
      "outputs": []
    },
    {
      "cell_type": "code",
      "source": [
        "U, S, Vt = np.linalg.svd(df)\n",
        "scale_factor = 3\n",
        "# Rescale the SVD spectrum to get the eigenvalues\n",
        "l_svd = S**2/(1000-1)\n",
        "# The matrix U already contains the eigenvectors\n",
        "V_svd = U\n",
        "print(V_svd)\n",
        "print(l_svd)"
      ],
      "metadata": {
        "colab": {
          "base_uri": "https://localhost:8080/"
        },
        "id": "efc9dtdfeUs6",
        "outputId": "7be93757-d879-4a50-8aba-b29eecb0736d"
      },
      "execution_count": 10,
      "outputs": [
        {
          "output_type": "stream",
          "name": "stdout",
          "text": [
            "[[-0.10980675  0.56681197 -0.81649658]\n",
            " [-0.5843933  -0.70129723 -0.40824829]\n",
            " [-0.80400681  0.43232671  0.40824829]]\n",
            "[2.96989445e+01 1.90040244e+00 1.29683792e-30]\n"
          ]
        }
      ]
    },
    {
      "cell_type": "code",
      "source": [],
      "metadata": {
        "id": "hyaVVrOZsvNs"
      },
      "execution_count": null,
      "outputs": []
    },
    {
      "cell_type": "code",
      "source": [
        "l, v = la.eig(np_cov)\n",
        "print('eigenvalues')\n",
        "print(l)\n",
        "print('realeigenvalues')\n",
        "print(np.real_if_close(l))\n",
        "print('eigenvectors')\n",
        "print(v)"
      ],
      "metadata": {
        "colab": {
          "base_uri": "https://localhost:8080/"
        },
        "id": "xhlQfn8UBnw8",
        "outputId": "78c9cd22-7f41-49de-b40b-2d9ea7047111"
      },
      "execution_count": 11,
      "outputs": [
        {
          "output_type": "stream",
          "name": "stdout",
          "text": [
            "eigenvalues\n",
            "[ 2.96989443e+01+0.j -1.31298132e-15+0.j  1.89177196e+00+0.j]\n",
            "realeigenvalues\n",
            "[ 2.96989443e+01 -1.31298132e-15  1.89177196e+00]\n",
            "eigenvectors\n",
            "[[-0.10980573 -0.81649658  0.56681217]\n",
            " [-0.58439457 -0.40824829 -0.70129618]\n",
            " [-0.80400603  0.40824829  0.43232816]]\n"
          ]
        }
      ]
    },
    {
      "cell_type": "markdown",
      "source": [
        "compare eginvectors in both approaches and they are the same;"
      ],
      "metadata": {
        "id": "kwvSMix44DSm"
      }
    },
    {
      "cell_type": "code",
      "source": [
        "U, s, Vt = la.svd(np_cov)\n",
        "print('u:',U)\n",
        "print(np.real_if_close(s))\n",
        "print('s:',s)"
      ],
      "metadata": {
        "colab": {
          "base_uri": "https://localhost:8080/"
        },
        "id": "8sqVFaG4CccN",
        "outputId": "c81240b5-9d4d-4c13-8a37-90b7f5af5a3b"
      },
      "execution_count": 12,
      "outputs": [
        {
          "output_type": "stream",
          "name": "stdout",
          "text": [
            "u: [[-0.10980573  0.56681217 -0.81649658]\n",
            " [-0.58439457 -0.70129618 -0.40824829]\n",
            " [-0.80400603  0.43232816  0.40824829]]\n",
            "[2.96989443e+01 1.89177196e+00 6.31285754e-16]\n",
            "s: [2.96989443e+01 1.89177196e+00 6.31285754e-16]\n"
          ]
        }
      ]
    },
    {
      "cell_type": "code",
      "source": [
        "\n",
        "for li, vi in zip(l_svd,V_svd.T ):\n",
        "    print(\"Eigenvalue:\", li, \",\\teigenvector:\", vi)\n",
        "\n",
        "print(V_svd.T[0,:],V_svd[1,:])\n",
        "new=np.array([V_svd.T[0,:],V_svd.T[1,:]])\n",
        "print(new)"
      ],
      "metadata": {
        "colab": {
          "base_uri": "https://localhost:8080/"
        },
        "id": "DNhm9PjIjA37",
        "outputId": "028e3984-b8b4-4bd8-c4ff-980382ea053e"
      },
      "execution_count": 28,
      "outputs": [
        {
          "output_type": "stream",
          "name": "stdout",
          "text": [
            "Eigenvalue: 29.69894454310397 ,\teigenvector: [-0.10980675 -0.5843933  -0.80400681]\n",
            "Eigenvalue: 1.9004024402037556 ,\teigenvector: [ 0.56681197 -0.70129723  0.43232671]\n",
            "Eigenvalue: 1.296837916493043e-30 ,\teigenvector: [-0.81649658 -0.40824829  0.40824829]\n",
            "[-0.10980675 -0.5843933  -0.80400681] [-0.5843933  -0.70129723 -0.40824829]\n",
            "[[-0.10980675 -0.5843933  -0.80400681]\n",
            " [ 0.56681197 -0.70129723  0.43232671]]\n"
          ]
        }
      ]
    },
    {
      "cell_type": "code",
      "source": [
        "#ex2\n",
        "noises = np.random.normal(loc=0, scale=1/50, size=(3, 1000, 10))\n",
        "x_noise = df + np.sum(noises, axis = 2)\n",
        "print(x_noise.shape)"
      ],
      "metadata": {
        "colab": {
          "base_uri": "https://localhost:8080/"
        },
        "id": "TccrwnjksU7L",
        "outputId": "cead2deb-bdf7-4814-c1fd-a3d1c0497a23"
      },
      "execution_count": 23,
      "outputs": [
        {
          "output_type": "stream",
          "name": "stdout",
          "text": [
            "(3, 1000)\n"
          ]
        }
      ]
    },
    {
      "cell_type": "code",
      "source": [
        "U2, S2, Vt2 = np.linalg.svd(x_noise)\n",
        "scale_factor = 3\n",
        "l_svd2 = S2**2/(1000-1)\n",
        "V_svd2 = U2\n",
        "print(V_svd2)\n",
        "print(l_svd2)"
      ],
      "metadata": {
        "colab": {
          "base_uri": "https://localhost:8080/"
        },
        "id": "c8x741JesweK",
        "outputId": "164237b9-8b6c-4723-d2c9-2fb759cb386e"
      },
      "execution_count": 22,
      "outputs": [
        {
          "output_type": "stream",
          "name": "stdout",
          "text": [
            "[[-0.10977188  0.56704959 -0.81633627]\n",
            " [-0.58380847 -0.70148313 -0.40876533]\n",
            " [-0.80443633  0.43171309  0.40805147]]\n",
            "[2.96786818e+01 1.89821668e+00 4.09222589e-03]\n"
          ]
        }
      ]
    },
    {
      "cell_type": "code",
      "source": [
        "l2, v2 = la.eig(np.cov(x_noise))\n",
        "print(l2)\n",
        "print(np.real_if_close(l))\n",
        "print(v2)\n",
        "X = np.dot(v.T, df)\n",
        "print(X)\n",
        "print(X.shape)"
      ],
      "metadata": {
        "colab": {
          "base_uri": "https://localhost:8080/"
        },
        "id": "3gLS2Quhs3Yr",
        "outputId": "a1f04ef4-cb3e-48ad-ef4a-fa2d0bfbfc5d"
      },
      "execution_count": 26,
      "outputs": [
        {
          "output_type": "stream",
          "name": "stdout",
          "text": [
            "eigenvalues\n",
            "[2.97054232e+01+0.j 3.88485504e-03+0.j 1.89264479e+00+0.j]\n",
            "realeigenvalues\n",
            "[ 2.96989443e+01 -1.31298132e-15  1.89177196e+00]\n",
            "eigenvectors\n",
            "[[-0.11032381 -0.81632676  0.56695615]\n",
            " [-0.58390742 -0.40838026 -0.70162504]\n",
            " [-0.80428899  0.40845585  0.43160518]]\n",
            "[[-9.31896861e-01  1.61854503e+01 -8.08329950e+00 ... -2.64599869e+00\n",
            "  -1.45045475e+00 -3.23430440e+00]\n",
            " [ 2.05363400e-16  2.50048721e-15 -1.14467891e-15 ... -5.31901743e-18\n",
            "  -2.66258268e-16  1.32960637e-16]\n",
            " [ 1.07873697e+00  1.44756063e+00 -3.15787189e-01 ...  9.86455917e-01\n",
            "  -1.40493831e-01  1.16102721e+00]]\n",
            "(3, 1000)\n"
          ]
        }
      ]
    },
    {
      "cell_type": "markdown",
      "source": [
        "ex3 optional\n"
      ],
      "metadata": {
        "id": "BtTCYFsqPq8S"
      }
    }
  ]
}