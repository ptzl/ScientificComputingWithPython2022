{
  "cells": [
    {
      "cell_type": "markdown",
      "metadata": {
        "id": "mapfoO1gJPow"
      },
      "source": [
        "3\\. **Monte Carlo integration in high dimension**\n",
        "\n",
        "* Compute the area of a circle of unit radius, by integrating the function:\n",
        "\n",
        "$$\n",
        "f(x,y)=\n",
        "\\left\\{\n",
        "\\begin{array}{ll}\n",
        "      1 & x^2+y^2\\le 1 \\\\\n",
        "      0 & {\\rm elsewhere}\n",
        "\\end{array} \n",
        "\\right.\n",
        "$$\n",
        "\n",
        "* Generalize the result for a 10D sphere."
      ]
    },
    {
      "cell_type": "code",
      "execution_count": 22,
      "metadata": {
        "colab": {
          "base_uri": "https://localhost:8080/"
        },
        "id": "cISNQM1BJPox",
        "outputId": "0de89798-256f-4798-ad94-a40cecb98abf"
      },
      "outputs": [
        {
          "output_type": "stream",
          "name": "stdout",
          "text": [
            "1.9457945794579459\n"
          ]
        }
      ],
      "source": [
        "        \n",
        "        \n",
        "\n",
        "def dim10():\n",
        "    count2=0\n",
        "    for i in range(9999):\n",
        "        s=0\n",
        "        for j in range (10):\n",
        "            s+=((np.random.random())**2)\n",
        "        if (s<=1):\n",
        "            count2+=1\n",
        "    return (2**10)*(count2/9999)\n",
        "print(dim10())"
      ]
    },
    {
      "cell_type": "markdown",
      "metadata": {
        "id": "wtBt0cmAJPox"
      },
      "source": [
        "4\\. **Monte Carlo integration with importance sampling** \n",
        "\n",
        "Calculate the value of the integral:\n",
        "\n",
        "$$\n",
        "I=\\int_0^1 \\frac{x^{-1/2}}{e^x+1} dx\n",
        "$$\n",
        "\n",
        "using the importance sampling method with $w(x)=1/\\sqrt{x}$. You should expect a result around 0.84."
      ]
    },
    {
      "cell_type": "code",
      "execution_count": 2,
      "metadata": {
        "colab": {
          "base_uri": "https://localhost:8080/"
        },
        "id": "MBlM_l0_JPoy",
        "outputId": "dd781f05-cb51-494c-d449-ac5622d2514c"
      },
      "outputs": [
        {
          "output_type": "stream",
          "name": "stdout",
          "text": [
            "0.9779967728550149\n"
          ]
        }
      ],
      "source": [
        "import numpy as np\n",
        "def f1(x):\n",
        "    return (x**(-0.5))/(np.exp(x)+1) \n",
        "def f2(x):\n",
        "    return 1/(np.sqrt(x)) \n",
        "\n",
        "t=True\n",
        "u = np.random.uniform(0, 1)**2 \n",
        "for i in range(1000):\n",
        "    \n",
        "    if t:\n",
        "        a = np.array([f1(u)])\n",
        "        b = np.array([f2(u)])\n",
        "        t = False\n",
        "    else:\n",
        "        a = np.append(a, f1(u))\n",
        "        b = np.append(b, f2(u))\n",
        "        \n",
        "\n",
        "print( 2*sum(a/b)/1000)"
      ]
    }
  ],
  "metadata": {
    "kernelspec": {
      "display_name": "base",
      "language": "python",
      "name": "python3"
    },
    "language_info": {
      "codemirror_mode": {
        "name": "ipython",
        "version": 3
      },
      "file_extension": ".py",
      "mimetype": "text/x-python",
      "name": "python",
      "nbconvert_exporter": "python",
      "pygments_lexer": "ipython3",
      "version": "3.9.12"
    },
    "vscode": {
      "interpreter": {
        "hash": "c33ef0d4398937ecb5268daa690e9c83c694125b3e6c89d9a5ef925d0e1e9cba"
      }
    },
    "colab": {
      "provenance": []
    }
  },
  "nbformat": 4,
  "nbformat_minor": 0
}